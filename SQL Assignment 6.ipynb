{
 "cells": [
  {
   "cell_type": "raw",
   "id": "9a889362",
   "metadata": {},
   "source": [
    "Q-1. Write an SQL query to print details of the Workers who have joined in Feb’2014."
   ]
  },
  {
   "cell_type": "raw",
   "id": "babe6bd7",
   "metadata": {},
   "source": [
    "USE workDatabase\n",
    "SELECT *\n",
    "FROM worker\n",
    "WHERE YEAR(DateofJoining) = 2014 AND MONTH(DateofJoining) = 2;"
   ]
  },
  {
   "cell_type": "raw",
   "id": "2fa24d56",
   "metadata": {},
   "source": [
    "Q-2. Write an SQL query to fetch duplicate records having matching data in some fields of\n",
    "a table."
   ]
  },
  {
   "cell_type": "raw",
   "id": "f9eb1161",
   "metadata": {},
   "source": [
    "USE workDatabase\n",
    "SELECT gender, department, COUNT(*)\n",
    "FROM worker\n",
    "GROUP BY gender, department\n",
    "HAVING COUNT(*) > 1;"
   ]
  },
  {
   "cell_type": "raw",
   "id": "73a67ce2",
   "metadata": {},
   "source": [
    "Q-3. How to remove duplicate rows from Employees table."
   ]
  },
  {
   "cell_type": "raw",
   "id": "4c27e850",
   "metadata": {},
   "source": [
    "USE workDatabase\n",
    "DELETE c1\n",
    "FROM worker\n",
    "c1 INNER JOIN worker c2\n",
    "WHERE\n",
    "    c1.salary > c2.salary AND\n",
    "    c1.LAST_NAME = c2.LAST_NAME"
   ]
  }
 ],
 "metadata": {
  "kernelspec": {
   "display_name": "Python 3",
   "language": "python",
   "name": "python3"
  },
  "language_info": {
   "codemirror_mode": {
    "name": "ipython",
    "version": 3
   },
   "file_extension": ".py",
   "mimetype": "text/x-python",
   "name": "python",
   "nbconvert_exporter": "python",
   "pygments_lexer": "ipython3",
   "version": "3.8.8"
  }
 },
 "nbformat": 4,
 "nbformat_minor": 5
}
