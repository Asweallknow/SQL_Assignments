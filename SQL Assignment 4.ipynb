{
 "cells": [
  {
   "cell_type": "raw",
   "id": "df0c572d",
   "metadata": {},
   "source": [
    "Q-1. Write an SQL query to print the FIRST_NAME from Worker table after replacing ‘a’\n",
    "with ‘A’."
   ]
  },
  {
   "cell_type": "raw",
   "id": "67da48f7",
   "metadata": {},
   "source": [
    "SELECT REPLACE(first_name, \"a\", \"A\")\n",
    "FROM worker;"
   ]
  },
  {
   "cell_type": "raw",
   "id": "a3df3ab7",
   "metadata": {},
   "source": [
    "Q-2. Write an SQL query to print all Worker details from the Worker table order by\n",
    "FIRST_NAME Ascending and DEPARTMENT Descending."
   ]
  },
  {
   "cell_type": "raw",
   "id": "d1dac413",
   "metadata": {},
   "source": [
    "USE workDatabase\n",
    "SELECT *\n",
    "FROM worker\n",
    "ORDER BY FIRST_NAME ASC, DEPARTMET DESC;"
   ]
  },
  {
   "cell_type": "raw",
   "id": "8ca87632",
   "metadata": {},
   "source": [
    "Q-3. Write an SQL query to fetch the names of workers who earn the highest salary."
   ]
  },
  {
   "cell_type": "raw",
   "id": "8afa7b0d",
   "metadata": {},
   "source": [
    "USE workDatabase\n",
    "SELECT FIRST_NAME, SALARY\n",
    "FROM worker\n",
    "WHERE SALARY = (SELECT MAX(SALARY) FROM worker);"
   ]
  }
 ],
 "metadata": {
  "kernelspec": {
   "display_name": "Python 3",
   "language": "python",
   "name": "python3"
  },
  "language_info": {
   "codemirror_mode": {
    "name": "ipython",
    "version": 3
   },
   "file_extension": ".py",
   "mimetype": "text/x-python",
   "name": "python",
   "nbconvert_exporter": "python",
   "pygments_lexer": "ipython3",
   "version": "3.8.8"
  }
 },
 "nbformat": 4,
 "nbformat_minor": 5
}
