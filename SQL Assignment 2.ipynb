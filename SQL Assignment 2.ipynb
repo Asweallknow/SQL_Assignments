{
 "cells": [
  {
   "cell_type": "raw",
   "id": "6ffb10b1",
   "metadata": {},
   "source": [
    "Q-1. Write an SQL query to print the first three characters of  FIRST_NAME from Worker\n",
    "table."
   ]
  },
  {
   "cell_type": "raw",
   "id": "07d8350a",
   "metadata": {},
   "source": [
    "USE workDatabase \n",
    "SELECT SUBSTRING(FIRST_NAME,1,3) \n",
    "FROM worker;"
   ]
  },
  {
   "cell_type": "raw",
   "id": "358bc683",
   "metadata": {},
   "source": [
    "Q-2. Write an SQL query to find the position of the alphabet (‘a’) in the first name\n",
    "column ‘Amitabh’ from Worker table."
   ]
  },
  {
   "cell_type": "raw",
   "id": "9e3ee2df",
   "metadata": {},
   "source": [
    "USE workDatabase \n",
    "SELECT POSITION(\"A\" IN first_name)\n",
    "FROM worker\n",
    "WHERE first_name = \"Amitabh\";"
   ]
  },
  {
   "cell_type": "raw",
   "id": "64b37760",
   "metadata": {},
   "source": [
    "Q-3. Write an SQL query to print the name of employees having the highest salary in each\n",
    "department."
   ]
  },
  {
   "cell_type": "raw",
   "id": "0bb7b774",
   "metadata": {},
   "source": [
    "USE workDatabase\n",
    "SELECT DEPARTMENT, MAX(Salary)\n",
    "FROM worker \n",
    "GROUP BY DEPARTMENT;"
   ]
  }
 ],
 "metadata": {
  "kernelspec": {
   "display_name": "Python 3",
   "language": "python",
   "name": "python3"
  },
  "language_info": {
   "codemirror_mode": {
    "name": "ipython",
    "version": 3
   },
   "file_extension": ".py",
   "mimetype": "text/x-python",
   "name": "python",
   "nbconvert_exporter": "python",
   "pygments_lexer": "ipython3",
   "version": "3.8.8"
  }
 },
 "nbformat": 4,
 "nbformat_minor": 5
}
