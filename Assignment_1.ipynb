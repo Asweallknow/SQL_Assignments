{
 "cells": [
  {
   "cell_type": "raw",
   "id": "ebb45a85",
   "metadata": {},
   "source": [
    "Q-1. Write an SQL query to fetch “FIRST_NAME” from Worker table using the alias\n",
    "name as <WORKER_NAME>."
   ]
  },
  {
   "cell_type": "raw",
   "id": "75e1818b",
   "metadata": {},
   "source": [
    "USE workDatabase\n",
    "SELECT FIRST_NAME AS WORKER_NAME \n",
    "FROM worker;"
   ]
  },
  {
   "cell_type": "raw",
   "id": "317e3f90",
   "metadata": {},
   "source": [
    "Q-2. Write an SQL query to fetch unique values of DEPARTMENT from Worker table."
   ]
  },
  {
   "cell_type": "raw",
   "id": "816bf7c7",
   "metadata": {},
   "source": [
    "USE workDatabase\n",
    "SELECT DISTINCT DEPARTMENT\n",
    "FROM worker;"
   ]
  },
  {
   "cell_type": "raw",
   "id": "ef0ebc4b",
   "metadata": {},
   "source": [
    "Q-3. Write an SQL query to show the last 5 record from a table."
   ]
  },
  {
   "cell_type": "raw",
   "id": "a3d33c13",
   "metadata": {},
   "source": [
    "SELECT * \n",
    "FROM worker\n",
    "ORDER BY EMPNO DESC\n",
    "LIMIT 5;"
   ]
  }
 ],
 "metadata": {
  "kernelspec": {
   "display_name": "Python 3",
   "language": "python",
   "name": "python3"
  },
  "language_info": {
   "codemirror_mode": {
    "name": "ipython",
    "version": 3
   },
   "file_extension": ".py",
   "mimetype": "text/x-python",
   "name": "python",
   "nbconvert_exporter": "python",
   "pygments_lexer": "ipython3",
   "version": "3.8.8"
  }
 },
 "nbformat": 4,
 "nbformat_minor": 5
}
