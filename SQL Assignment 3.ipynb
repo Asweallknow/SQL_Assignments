{
 "cells": [
  {
   "cell_type": "raw",
   "id": "f3381210",
   "metadata": {},
   "source": [
    "Q-1. Write an SQL query to print the FIRST_NAME from Worker table after removing\n",
    "white spaces from the right side."
   ]
  },
  {
   "cell_type": "raw",
   "id": "cf8dc6ae",
   "metadata": {},
   "source": [
    "SELECT RTRIM(FIRST_NAME)\n",
    "FROM worker;"
   ]
  },
  {
   "cell_type": "raw",
   "id": "175a8a49",
   "metadata": {},
   "source": [
    "Q-2. Write an SQL query that fetches the unique values of DEPARTMENT from Worker\n",
    "table and prints its length."
   ]
  },
  {
   "cell_type": "raw",
   "id": "4e4ed6fa",
   "metadata": {},
   "source": [
    "SELECT DISTINCT DEPARTMENT, LENGTH(DEPARTMENT) AS DepartmentName_length\n",
    "FROM worker;"
   ]
  },
  {
   "cell_type": "raw",
   "id": "80af2e57",
   "metadata": {},
   "source": [
    "Q-3. Write an SQL query to fetch nth max salaries from a table."
   ]
  },
  {
   "cell_type": "raw",
   "id": "d9162ebc",
   "metadata": {},
   "source": [
    "SELECT Salary\n",
    "FROM worker\n",
    "ORDER BY Salary DESC\n",
    "LIMIT 5,1;"
   ]
  }
 ],
 "metadata": {
  "kernelspec": {
   "display_name": "Python 3",
   "language": "python",
   "name": "python3"
  },
  "language_info": {
   "codemirror_mode": {
    "name": "ipython",
    "version": 3
   },
   "file_extension": ".py",
   "mimetype": "text/x-python",
   "name": "python",
   "nbconvert_exporter": "python",
   "pygments_lexer": "ipython3",
   "version": "3.8.8"
  }
 },
 "nbformat": 4,
 "nbformat_minor": 5
}
