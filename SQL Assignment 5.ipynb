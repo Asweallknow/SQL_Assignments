{
 "cells": [
  {
   "cell_type": "raw",
   "id": "2c6a55db",
   "metadata": {},
   "source": [
    "Q-1. Write an SQL query to print details of workers excluding first names, “Vipul” and\n",
    "“Satish” from Worker table."
   ]
  },
  {
   "cell_type": "raw",
   "id": "ab9618dd",
   "metadata": {},
   "source": [
    "USE workDatabase\n",
    "SELECT * \n",
    "FROM worker\n",
    "WHERE FIRST_NAME NOT IN (\"Vipul\", \"Satish\");|"
   ]
  },
  {
   "cell_type": "raw",
   "id": "3782c099",
   "metadata": {},
   "source": [
    "Q-2. Write an SQL query to print details of the Workers whose FIRST_NAME ends with\n",
    "‘h’ and contains six alphabets."
   ]
  },
  {
   "cell_type": "raw",
   "id": "994939a8",
   "metadata": {},
   "source": [
    "USE workDatabase\n",
    "SELECT *\n",
    "FROM worker\n",
    "WHERE FIRST_NAME LIKE \"____h\";"
   ]
  },
  {
   "cell_type": "raw",
   "id": "59e18d9b",
   "metadata": {},
   "source": [
    "Q-3. Write a query to validate Email of Employee."
   ]
  },
  {
   "cell_type": "raw",
   "id": "717b6b31",
   "metadata": {},
   "source": [
    "USE workDatabase\n",
    "SELECT * \n",
    "FROM worker\n",
    "WHERE EMAILID NOT LIKE '[0-9a-zA-Z]%@%.%';"
   ]
  }
 ],
 "metadata": {
  "kernelspec": {
   "display_name": "Python 3",
   "language": "python",
   "name": "python3"
  },
  "language_info": {
   "codemirror_mode": {
    "name": "ipython",
    "version": 3
   },
   "file_extension": ".py",
   "mimetype": "text/x-python",
   "name": "python",
   "nbconvert_exporter": "python",
   "pygments_lexer": "ipython3",
   "version": "3.8.8"
  }
 },
 "nbformat": 4,
 "nbformat_minor": 5
}
